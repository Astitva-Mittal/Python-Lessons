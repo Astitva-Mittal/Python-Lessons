{
 "cells": [
  {
   "cell_type": "code",
   "execution_count": null,
   "metadata": {},
   "outputs": [],
   "source": [
    "# basically, its not a calculator since it doesn't really take inputs...\n",
    "a = 25\n",
    "b = 3\n",
    "add = a + b\n",
    "sub = a-b\n",
    "mul = a*b\n",
    "div = a/b\n",
    "simpledivide = a//b\n",
    "rem = a % b\n",
    "pow = a**b\n",
    "print(\"The 2 numbers are\", a, \"and\", b)\n",
    "print(a, \"+\", b, \"=\", add)\n",
    "print(a, \"-\", b, \"=\", sub)\n",
    "print(a, \"x\", b, \"=\", mul)\n",
    "print(a, \"/\", b, \"=\", div)\n",
    "print(a, \"/\", b, \"(in terms of natural numbers) =\", simpledivide)\n",
    "print(\"The remainder of\", a, \"/\", b, \"=\", rem)\n",
    "print(a, \"to the power of\", b, \"=\", pow)\n",
    "print(\"Thanks\")"
   ]
  }
 ],
 "metadata": {
  "language_info": {
   "name": "python"
  }
 },
 "nbformat": 4,
 "nbformat_minor": 2
}
